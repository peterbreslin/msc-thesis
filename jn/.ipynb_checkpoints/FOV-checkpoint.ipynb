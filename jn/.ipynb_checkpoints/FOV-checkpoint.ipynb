{
 "cells": [
  {
   "cell_type": "code",
   "execution_count": 1,
   "id": "0c97d041",
   "metadata": {},
   "outputs": [],
   "source": [
    "import os\n",
    "import sys\n",
    "import h5py\n",
    "import glob\n",
    "import time\n",
    "import numpy as np\n",
    "import pandas as pd\n",
    "import astropy.io.fits as pf\n",
    "import matplotlib.pyplot as plt\n",
    "from skyfield.api import load, wgs84, EarthSatellite"
   ]
  },
  {
   "cell_type": "code",
   "execution_count": 2,
   "id": "e1ca21e8",
   "metadata": {},
   "outputs": [],
   "source": [
    "### FUNCTIONS I THINK ARE NEEDED TO TRANSFORM PIXEL COORDS TO LOOK AT FOV\n",
    "\n",
    "def world2pix(lst, ra, dec, jd=None, nx=4008, ny=2672, margin=50):\n",
    "    xwcs, ywcs = world2wcs(wcspars, ra, dec, lst, jd) # Compute wcs-only pixel coordinates\n",
    "    mask = np.isfinite(xwcs) & clip_rectangle(xwcs, ywcs, nx, ny, margin) # Remove coordinates not within the margins\n",
    "    xwcs, ywcs = xwcs[mask], ywcs[mask]        \n",
    "    xpix, ypix = wcs2pix(polpars, xwcs, ywcs) # Convert to actual pixel coordinates.\n",
    "    return xpix, ypix, mask\n",
    "\n",
    "\n",
    "def clip_rectangle(x, y, nx, ny, margin):\n",
    "    maskx = (x > margin) & (x < (nx - margin))\n",
    "    masky = (y > margin) & (y < (ny - margin))\n",
    "    return maskx & masky\n",
    "\n",
    "\n",
    "def world2wcs(wcspars, ra, dec, lst=None, jd=None):\n",
    "    \"\"\" Convert world coordinates to WCS-only coordinates. \"\"\"    \n",
    "    if jd is not None:\n",
    "        ra, dec = j2000_to_equinox(ra, dec, jd)\n",
    "    w = create_wcs(wcspars, lst)\n",
    "    xwcs, ywcs = w.wcs_world2pix(ra, dec, 0)\n",
    "    return xwcs, ywcs\n",
    "\n",
    "\n",
    "def create_wcs(wcspars, lst=None):\n",
    "    \"\"\" Create and astropy WCS instance from a dictionary of parameters. \"\"\"  \n",
    "    from astropy import wcs\n",
    "    \n",
    "    if lst is not None:\n",
    "        ra0, dec0 = wcspars['crval']\n",
    "        ha0 = ra2ha(ra0, wcspars['lst'])\n",
    "        ra0 = ha2ra(ha0, lst)\n",
    "        crval = np.array([ra0, dec0])   \n",
    "    else:\n",
    "        crval = wcspars['crval']\n",
    "        \n",
    "    w = wcs.WCS(naxis=2)\n",
    "    w.wcs.crpix = wcspars['crpix']\n",
    "    w.wcs.cdelt = wcspars['cdelt']\n",
    "    w.wcs.crval = crval\n",
    "    w.wcs.ctype = [\"RA---TAN\", \"DEC--TAN\"]\n",
    "    w.wcs.pc = wcspars['pc']\n",
    "    return w\n",
    "\n",
    "\n",
    "def ra2ha(ra, lst):\n",
    "    \"\"\" Convert Right Ascension to Hour Angle. \"\"\"\n",
    "    ha = np.mod(lst*15. - ra, 360.)\n",
    "    return ha\n",
    "\n",
    "def ha2ra(ha, lst):\n",
    "    \"\"\" Convert Hour Angle to Right Ascension. \"\"\"    \n",
    "    ra = np.mod(lst*15. - ha, 360.)\n",
    "    return ra\n",
    "\n",
    "\n",
    "def j2000_to_equinox(ra, dec, jd):\n",
    "    from astropy.time import Time\n",
    "    from astropy.coordinates import SkyCoord, FK5\n",
    "    t = Time(jd, scale='utc', format='jd') \n",
    "    t.format = 'jyear_str'\n",
    "    gc = SkyCoord(ra, dec, frame='fk5', unit='deg', equinox='J2000')    \n",
    "    gc = gc.transform_to(FK5(equinox=t))    \n",
    "    return gc.ra.value, gc.dec.value\n",
    "\n",
    "\n",
    "def wcs2pix(polpars, xwcs, ywcs):\n",
    "    \"\"\" Convert WCS-only coordinates to pixel coordinates. \"\"\"     \n",
    "    dx, dy = leg2d_eval(xwcs, ywcs, polpars['x_wcs2pix'], polpars['y_wcs2pix'], \n",
    "                        polpars['order'], polpars['nx'], polpars['ny'])    \n",
    "    xpix, ypix = xwcs + dx, ywcs + dy\n",
    "    return xpix, ypix\n",
    "\n",
    "\n",
    "def leg2d_eval(x, y, a, b, order=6, nx=4008., ny=2672.):\n",
    "    \"\"\" Evaluate 2-D polynomials. \"\"\"\n",
    "    mat, idx1, idx2 = leg2d_mat(x, y, order, nx, ny)\n",
    "    xres = np.dot(mat, a[idx1, idx2])\n",
    "    yres = np.dot(mat, b[idx1, idx2])\n",
    "    return xres, yres  \n",
    "\n",
    "\n",
    "def leg2d_mat(x, y, order=6, nx=4008., ny=2672.):\n",
    "    \"\"\" Create a matrix for fitting 2-D polynomials of the given order. \"\"\" \n",
    "    from numpy.polynomial import legendre\n",
    "    x = np.array(x)\n",
    "    y = np.array(y)\n",
    "    mat1 = legendre.legvander(2*(x/nx) - 1, order+1)\n",
    "    mat2 = legendre.legvander(2*(y/ny) - 1, order+1)\n",
    "        \n",
    "    idx1, idx2 = np.indices((order+1, order+1))\n",
    "    mask = ((idx1 + idx2) <= order)\n",
    "    idx1, idx2 = idx1[mask], idx2[mask]        \n",
    "        \n",
    "    mat = mat1[:,idx1]*mat2[:,idx2]\n",
    "    return mat, idx1, idx2"
   ]
  },
  {
   "cell_type": "code",
   "execution_count": 3,
   "id": "1273bde5",
   "metadata": {},
   "outputs": [],
   "source": [
    "# For an image:\n",
    "    # Check time of observation\n",
    "    # Check if starlinks pass for that time\n",
    "    # Now run the FOV test\n",
    "    # If in FOV --> selection criteria checks (time, disk illumination, sat above horizon)\n",
    "    # Check which camera would find the satellite ..?? Probably need to do this independently of image\n",
    "    # If everything checks out --> keep image\n",
    "    \n",
    "    \n",
    "# Problem - current way of checking FOV requires an image to be passed (so as to get the wcspars)\n",
    "# Doing it this way means that the camid will have to be defined beforehand\n",
    "# But this defeats the purpose of finding which camera will capture a potential starlink trail \n",
    "# Through this way, we may get a no sighting but in reality there is, just in a different camera"
   ]
  },
  {
   "cell_type": "markdown",
   "id": "798adfb9",
   "metadata": {},
   "source": [
    "# Starting here - checking each camid"
   ]
  },
  {
   "cell_type": "code",
   "execution_count": 3,
   "id": "2b0b8222",
   "metadata": {},
   "outputs": [],
   "source": [
    "def reduce_tles(camid):\n",
    "\n",
    "    # Load TLEs for all passages\n",
    "    satfiles = '../test_data/3leComplete.txt'\n",
    "    with open(satfiles) as f:\n",
    "        all_tles = f.readlines()\n",
    "        f.close()   \n",
    "\n",
    "    # Split TLE list into individual lists for each TLE\n",
    "    all_tles = [i.strip() for i in all_tles]\n",
    "    tles = [all_tles[x:x+3] for x in range(0, len(all_tles), 3)]\n",
    "\n",
    "    # Reduce TLEs to Starlink only\n",
    "    starlink_tles = []\n",
    "    for tle in tles:\n",
    "        if \"STARLINK\" in tle[0]:\n",
    "            starlink_tles.append(tle)\n",
    "\n",
    "    # Obtain satellite passages\n",
    "    passed_sats = pd.read_pickle(f'../test_data/passages/passed_satellites_20221023{camid}.p')\n",
    "\n",
    "    # Find any Starlink TLEs in the passages\n",
    "    idx = []\n",
    "    flatlist = np.asarray(starlink_tles).flatten()\n",
    "    for key in passed_sats.keys():\n",
    "        line1 = passed_sats[key]['TLE line1'].strip()\n",
    "        i = np.where(flatlist == line1)[0] \n",
    "        if i.size > 0:\n",
    "            idx.append(i[0] - 1) #appending the name of the starlink sat\n",
    "\n",
    "    # Now have indices for the flattened Starlink TLE list --> divide by 3 to get indices for the original list\n",
    "    orig_idx = [int(x/3) for x in idx]\n",
    "    passed_tles = [starlink_tles[i] for i in orig_idx]\n",
    "\n",
    "    # Remove 0 labeling of first line of TLE because that's the proper format\n",
    "    for tle in passed_tles:\n",
    "        tle[0] = tle[0][2:]\n",
    "         \n",
    "    #print(f'Number of satellites recorded for this day: {len(all_tles)}')\n",
    "    #print(f'Number of them that were Starlinks: {len(starlink_tles)}')\n",
    "    #print(f'Number of Starlinks that passed MASCARA: {len(passed_tles)}')\n",
    "    \n",
    "    return passed_tles"
   ]
  },
  {
   "cell_type": "code",
   "execution_count": 4,
   "id": "00ee9eae",
   "metadata": {},
   "outputs": [],
   "source": [
    "# starlinks = reduce_tles('LSC')"
   ]
  },
  {
   "cell_type": "code",
   "execution_count": 5,
   "id": "b44acd58",
   "metadata": {},
   "outputs": [],
   "source": [
    "def image_data(camid):\n",
    "    \n",
    "    images = glob.glob(f'../test_data/diff_images/{camid}/diff_*.fits.gz')\n",
    "\n",
    "    imgdata = {}\n",
    "    for img in images:\n",
    "        data, header = pf.getdata(img, header=True) \n",
    "        lstseq = img[-19:-11]\n",
    "        midlst = header['MIDLST']\n",
    "        midJD = header['MIDJD']\n",
    "        nx = header['XSIZE']    \n",
    "        ny = header['YSIZE']\n",
    "\n",
    "        imgdata[lstseq] = {}\n",
    "        imgdata[lstseq]['midLST'] = midlst\n",
    "        imgdata[lstseq]['midJD']  = midJD\n",
    "        imgdata[lstseq]['nx'] = nx\n",
    "        imgdata[lstseq]['ny'] = ny\n",
    "    \n",
    "    return imgdata"
   ]
  },
  {
   "cell_type": "code",
   "execution_count": 6,
   "id": "063d44ff",
   "metadata": {},
   "outputs": [],
   "source": [
    "# imgdata = image_data('LSC')"
   ]
  },
  {
   "cell_type": "code",
   "execution_count": 7,
   "id": "7b245377",
   "metadata": {},
   "outputs": [],
   "source": [
    "def passage_check(midJD, tles, passages):\n",
    "        \n",
    "    idx_reduced = []\n",
    "    sats = passages[midJD].keys()\n",
    "    \n",
    "    satnums = []\n",
    "    for tle in tles:\n",
    "        satnums.append(tle[1].split()[1])\n",
    "\n",
    "    # Cross-reference\n",
    "    for i, sat in enumerate(sats):\n",
    "        if sat in satnums:\n",
    "            idx = satnums.index(sat)\n",
    "            idx_reduced.append(idx)\n",
    "  \n",
    "    return idx_reduced"
   ]
  },
  {
   "cell_type": "code",
   "execution_count": 8,
   "id": "27d19c65",
   "metadata": {},
   "outputs": [],
   "source": [
    "def get_siteinfo():\n",
    "    confdir = '../fotos-python3/bringfiles/siteinfo.dat'\n",
    "    dtype = [('sitename', '|U20'), ('lat', 'float32'), ('lon', 'float32'), ('height', 'float32'), ('ID', '|U2')]\n",
    "    siteinfo = np.genfromtxt(confdir, dtype=dtype)   \n",
    "    mask = siteinfo['ID'] == 'LS'\n",
    "    siteinfo = siteinfo[mask]\n",
    "    return siteinfo"
   ]
  },
  {
   "cell_type": "code",
   "execution_count": 9,
   "id": "c23bbef6",
   "metadata": {},
   "outputs": [],
   "source": [
    "### Get timerange of all images\n",
    "\n",
    "def image_timerange(imgdata):\n",
    "    \n",
    "    dates = []\n",
    "    for lst in list(imgdata):\n",
    "        dates.append(imgdata[lst]['midJD'])\n",
    "    \n",
    "    oldest = min(dates)\n",
    "    newest = max(dates)\n",
    "\n",
    "    # Converting to utc for convenience\n",
    "    ts = load.timescale()\n",
    "    newest = ts.tt_jd(newest).utc_strftime()\n",
    "    oldest = ts.tt_jd(oldest).utc_strftime()\n",
    "\n",
    "    beg = pd.to_datetime(oldest)\n",
    "    end = pd.to_datetime(newest)\n",
    "    rng = pd.date_range(beg, end, freq='0.05H').to_pydatetime().tolist() #every 3 minutes\n",
    "    timerange = ts.from_datetimes(rng)\n",
    "    \n",
    "    return timerange"
   ]
  },
  {
   "cell_type": "code",
   "execution_count": 10,
   "id": "ed33611b",
   "metadata": {},
   "outputs": [],
   "source": [
    "def check_illumination(imgdata, midJD, timerange, sat):\n",
    "\n",
    "    # Check when satellite is illuminated \n",
    "    timerange = image_timerange(imgdata)\n",
    "    sunlit = sat.at(timerange).is_sunlit(eph)\n",
    "\n",
    "    # Obtain the indices of the first and last True element for each sequence of True elements \n",
    "    sunlit_idx = []\n",
    "    start_idx = None\n",
    "    for i, elem in enumerate(sunlit):\n",
    "        if elem:\n",
    "            # Checking if the start of a sequence of True elements\n",
    "            if start_idx is None:\n",
    "                start_idx = i\n",
    "        else:\n",
    "            # Checking if a sequence is just ended\n",
    "            if start_idx is not None:\n",
    "                sunlit_idx.append((start_idx, i-1)) # -1 because we're at the first False element after True sequence\n",
    "                start_idx = None\n",
    "\n",
    "    # If the last element is True, we need to append its index as well\n",
    "    if start_idx is not None:\n",
    "        sunlit_idx.append((start_idx, len(sunlit)-1))\n",
    "    \n",
    "    # Getting the times from the indices\n",
    "    sunlit_times = []\n",
    "    for idx in sunlit_idx:\n",
    "        sunlit_times.append([timerange.tt[idx[0]], timerange.tt[idx[1]]])\n",
    "\n",
    "    # Check if midJD is within each period and flag it if so\n",
    "    illuminated = False\n",
    "    for sunlitrng in sunlit_times:\n",
    "        if midJD >= (sunlitrng[0] - 1/86400) and midJD <= (sunlitrng[1] + 1/86400): #adding a bumper of second\n",
    "            illuminated = True\n",
    "            if illuminated:\n",
    "                break\n",
    "\n",
    "    return illuminated"
   ]
  },
  {
   "cell_type": "code",
   "execution_count": 11,
   "id": "6cd7f36e",
   "metadata": {},
   "outputs": [],
   "source": [
    "### For Jupyter Notebook playaround, will use LSC and LSE only\n",
    "\n",
    "### THERE ARE A NUMBER OF THINGS WE DON'T WANT TO REPEAT IN THE MAIN LOOP\n",
    "\n",
    "# DE421 planetary ephemeris (to get position of Sun)\n",
    "eph = load('de421.bsp')\n",
    "\n",
    "def check_each_camid():\n",
    "    \n",
    "    print('Getting Image Data')\n",
    "    LSC = image_data(\"LSC\")\n",
    "    LSE = image_data(\"LSE\")\n",
    "    \n",
    "    print('Getting Timeranges')\n",
    "    trC = image_timerange(LSC)\n",
    "    trE = image_timerange(LSE)\n",
    "\n",
    "    print('Getting Fast Curves')\n",
    "    fastC = h5py.File(\"../fast_20221023LSC.hdf5\", \"r\")    \n",
    "    fastE = h5py.File(\"../fast_20221023LSE.hdf5\", \"r\")    \n",
    "\n",
    "    print('Getting Passages')\n",
    "    psgsC = pd.read_pickle(\"../test_data/passages/passages_20221023LSC.p\")\n",
    "    psgsE = pd.read_pickle(\"../test_data/passages/passages_20221023LSE.p\")\n",
    "\n",
    "    print('Getting TLEs')\n",
    "    tlesC = reduce_tles(\"LSC\")\n",
    "    tlesE = reduce_tles(\"LSE\")\n",
    "    \n",
    "    # Define observer\n",
    "    site = get_siteinfo()\n",
    "    mascara = wgs84.latlon(latitude_degrees=site[0][1], longitude_degrees=site[0][2], elevation_m=site[0][3])\n",
    "    \n",
    "    # Want to check the date for each camid before moving on to the next date\n",
    "    # The LST sequences will be the same for each camid\n",
    "    \n",
    "    print('Beginning Loop \\n')\n",
    "    \n",
    "    result = []\n",
    "    for seq in fastC['station']['lstseq'][:]: \n",
    "        lstseq = str(seq)\n",
    "\n",
    "        for data, timerange, camid, fast, starlinks, passages in zip(\n",
    "            [LSC, LSE], [trC, trE], ['LSC', 'LSE'], [fastC, fastE], [tlesC, tlesE], [psgsC, psgsE]):\n",
    "\n",
    "            if lstseq not in data.keys():\n",
    "                #print(f'{lstseq} not in directory')\n",
    "                continue #this is only needed if not going through ALL images!\n",
    "\n",
    "            # Set time of image\n",
    "            midJD = data[lstseq]['midJD']\n",
    "            ts = load.timescale()\n",
    "            t  = ts.tt_jd(midJD)\n",
    "\n",
    "            # Obtain passages\n",
    "            idx_reduced = passage_check(midJD, starlinks, passages)\n",
    "\n",
    "            if idx_reduced is None:\n",
    "                print(f'{lstseq}: No starlinks passing MASCARA')\n",
    "                continue\n",
    "\n",
    "            else:\n",
    "                print(f'There are {len(idx_reduced)} Starlinks passing overhead {camid} for LSTSEQ={lstseq}')\n",
    "                # Attaining the astrometric solution (depends on FAST file and LSTseq)\n",
    "                astro = np.where((fast['astrometry/lstseq'][:] // 50) == (int(lstseq) // 50))[0][0]\n",
    "                order = fast['astrometry/x_wcs2pix'][astro].shape[0]-1\n",
    "                lst=fast['station/lst'][np.where(fast['station/lstseq'][:]==(fast['astrometry/lstseq'][astro]))[0][0]]\n",
    "                nx = data[lstseq]['nx']\n",
    "                ny = data[lstseq]['ny']\n",
    "\n",
    "                wcspars = { 'crval' : fast['astrometry/crval'][astro].copy(),\n",
    "                            'crpix' : fast['astrometry/crpix'][astro].copy(),\n",
    "                            'cdelt' : [0.02148591731740587,0.02148591731740587],\n",
    "                            'pc'    : fast['astrometry/pc'][astro].copy(),\n",
    "                            'lst'   : lst }\n",
    "\n",
    "                polpars = { 'x_wcs2pix' : fast['astrometry/x_wcs2pix'][astro].copy(),\n",
    "                            'y_wcs2pix' : fast['astrometry/y_wcs2pix'][astro].copy(),\n",
    "                            'x_pix2wcs' : fast['astrometry/x_pix2wcs'][astro].copy(),\n",
    "                            'y_pix2wcs' : fast['astrometry/y_pix2wcs'][astro].copy(),\n",
    "                            'nx'    : nx,\n",
    "                            'ny'    : ny,\n",
    "                            'order' : order }\n",
    "\n",
    "                midLST = data[lstseq]['midLST']\n",
    "\n",
    "                for idx in idx_reduced:\n",
    "                    line1 = starlinks[idx][0]\n",
    "                    line2 = starlinks[idx][1]\n",
    "                    line3 = starlinks[idx][2] \n",
    "                    sat = EarthSatellite(line2, line3, line1, ts)\n",
    "\n",
    "                    diff = sat - mascara\n",
    "                    topocentric = diff.at(t)\n",
    "                    alt, az, dist = topocentric.altaz()\n",
    "                    \n",
    "                    # Criteria check: if satellite is >20 degrees above the horizon\n",
    "                    if alt.degrees >= 20:\n",
    "                        \n",
    "                        # Criteria check: if satellite is illuminated\n",
    "                        illuminated = check_illumination(data, midJD, timerange, sat)\n",
    "                        \n",
    "                        if illuminated:\n",
    "                            ra, dec, radec_dist = topocentric.radec() \n",
    "                            radeg = ra._degrees\n",
    "                            dedeg = dec._degrees\n",
    "                            ra, dec = j2000_to_equinox(radeg, dedeg, midJD)\n",
    "                            w = create_wcs(wcspars, midLST)\n",
    "                            xwcs, ywcs = w.wcs_world2pix(ra, dec, 0)\n",
    "                            mask = np.isfinite(xwcs) & clip_rectangle(xwcs, ywcs, nx, ny, margin=50)\n",
    "\n",
    "                            if mask:\n",
    "                                print(f\"At least one Starlink should be in {camid} FOV\")\n",
    "                                image = lstseq + camid\n",
    "                                result.append(image)\n",
    "                                break #so to continue to next LSTSEQ if at least one starlink is found!\n",
    "                \n",
    "                print('\\n')\n",
    "\n",
    "\n",
    "\n",
    "    fastC.close()\n",
    "    fastE.close()\n",
    "    \n",
    "    if len(result) > 0:\n",
    "        np.savetxt('../selection_pool.txt', result, fmt='%s')\n",
    "        \n",
    "    return result"
   ]
  },
  {
   "cell_type": "code",
   "execution_count": 12,
   "id": "87df828e",
   "metadata": {},
   "outputs": [
    {
     "name": "stdout",
     "output_type": "stream",
     "text": [
      "Getting Image Data\n",
      "Getting Timeranges\n",
      "Getting Fast Curves\n",
      "Getting Passages\n",
      "Getting TLEs\n",
      "Beginning Loop \n",
      "\n",
      "There are 2 Starlinks passing overhead LSC for LSTSEQ=48506377\n",
      "\n",
      "\n",
      "There are 6 Starlinks passing overhead LSE for LSTSEQ=48506377\n",
      "At least one Starlink should be in LSE FOV\n",
      "\n",
      "\n",
      "There are 2 Starlinks passing overhead LSC for LSTSEQ=48507687\n",
      "\n",
      "\n",
      "There are 5 Starlinks passing overhead LSE for LSTSEQ=48507687\n",
      "\n",
      "\n"
     ]
    }
   ],
   "source": [
    "result = check_each_camid()"
   ]
  },
  {
   "cell_type": "markdown",
   "id": "ff7d718c",
   "metadata": {},
   "source": [
    "# Now we want to incorporate the selection criteria"
   ]
  },
  {
   "cell_type": "markdown",
   "id": "2b878a35",
   "metadata": {},
   "source": [
    "## Check disk illumination and if satellite above horizon\n",
    "\n",
    "So, if a satellite is in the FOV --> check if above horizon\n",
    "\n",
    "Then we'll deal with disk illumination by using the Sunlit brute force method"
   ]
  },
  {
   "cell_type": "markdown",
   "id": "40f78a85",
   "metadata": {},
   "source": [
    "## Testing Illumination"
   ]
  },
  {
   "cell_type": "code",
   "execution_count": 17,
   "id": "a0774174",
   "metadata": {},
   "outputs": [],
   "source": [
    "ts = load.timescale()\n",
    "eph = load('de421.bsp')\n",
    "imgdata = image_data('LSC')\n",
    "timerange = image_timerange(imgdata)\n",
    "midJD = imgdata[list(imgdata)[0]]['midJD']\n",
    "\n",
    "starlinks = reduce_tles('LSC')\n",
    "sat = EarthSatellite(starlinks[24][1], starlinks[24][2], starlinks[24][0], ts)"
   ]
  },
  {
   "cell_type": "code",
   "execution_count": 33,
   "id": "efcde02a",
   "metadata": {},
   "outputs": [],
   "source": [
    "site = get_siteinfo()\n",
    "mascara = wgs84.latlon(latitude_degrees=site[0][1], longitude_degrees=site[0][2], elevation_m=site[0][3])\n",
    "diff = sat - mascara\n",
    "topocentric = diff.at(ts.tt_jd(midJD))"
   ]
  },
  {
   "cell_type": "code",
   "execution_count": 53,
   "id": "e9f673b3",
   "metadata": {},
   "outputs": [],
   "source": [
    "# Check when satellite is illuminated \n",
    "timerange = image_timerange(imgdata)\n",
    "sunlit = sat.at(timerange).is_sunlit(eph)\n",
    "\n",
    "# Obtain the indices of the first and last True element for each sequence of True elements \n",
    "sunlit_idx = []\n",
    "start_idx = None\n",
    "for i, elem in enumerate(sunlit):\n",
    "    if elem:\n",
    "        # Checking if the start of a sequence of True elements\n",
    "        if start_idx is None:\n",
    "            start_idx = i\n",
    "    else:\n",
    "        # Checking if a sequence is just ended\n",
    "        if start_idx is not None:\n",
    "            sunlit_idx.append((start_idx, i-1)) # -1 because we're at the first False element after True sequence\n",
    "            start_idx = None\n",
    "\n",
    "# If the last element is True, we need to append its index as well\n",
    "if start_idx is not None:\n",
    "    sunlit_idx.append((start_idx, len(sunlit)-1))\n",
    "\n",
    "# Getting the times from the indices\n",
    "sunlit_times = []\n",
    "for idx in sunlit_idx:\n",
    "    sunlit_times.append([timerange.tt[idx[0]], timerange.tt[idx[1]]])\n",
    "\n",
    "# Check if midJD is within each period and flag it if so\n",
    "illuminated = False\n",
    "for sunlitrng in sunlit_times:\n",
    "    if midJD >= (sunlitrng[0] - 1/86400) and midJD <= (sunlitrng[1] + 1/86400): #adding a bumper of second\n",
    "        illuminated = True\n",
    "        if illuminated:\n",
    "            break"
   ]
  },
  {
   "cell_type": "code",
   "execution_count": 38,
   "id": "9d3910e4",
   "metadata": {},
   "outputs": [
    {
     "name": "stdout",
     "output_type": "stream",
     "text": [
      "2459876.52443372\n"
     ]
    },
    {
     "data": {
      "text/plain": [
       "[[2459876.524435, 2459876.5286016664],\n",
       " [2459876.543185, 2459876.5952683333],\n",
       " [2459876.6077683335, 2459876.6202683332]]"
      ]
     },
     "execution_count": 38,
     "metadata": {},
     "output_type": "execute_result"
    }
   ],
   "source": [
    "print(midJD)\n",
    "sunlit_times"
   ]
  },
  {
   "cell_type": "code",
   "execution_count": 46,
   "id": "31273fdf",
   "metadata": {},
   "outputs": [
    {
     "name": "stdout",
     "output_type": "stream",
     "text": [
      "midJD = 2022-10-24 00:34:02 UTC\n",
      "\n",
      "2022-10-24 00:34:02 UTC : 2022-10-24 00:40:02 UTC\n",
      "2022-10-24 01:01:02 UTC : 2022-10-24 02:16:02 UTC\n",
      "2022-10-24 02:34:02 UTC : 2022-10-24 02:52:02 UTC\n"
     ]
    }
   ],
   "source": [
    "print(f'midJD = {ts.tt_jd(midJD).utc_strftime()}\\n')\n",
    "\n",
    "for i in sunlit_times:\n",
    "    print(f'{ts.tt_jd(i[0]).utc_strftime()} : {ts.tt_jd(i[1]).utc_strftime()}')"
   ]
  },
  {
   "cell_type": "markdown",
   "id": "c3bea075",
   "metadata": {},
   "source": [
    "## Maybe I'm looking at the wrong pickle file when collecting the TLEs?"
   ]
  },
  {
   "cell_type": "code",
   "execution_count": 13,
   "id": "05cd738a",
   "metadata": {},
   "outputs": [],
   "source": [
    "passed = pd.read_pickle('../test_data/passages/passed_satellites_20221023LSC.p')\n",
    "passages = pd.read_pickle(\"../test_data/passages/passages_20221023LSC.p\")"
   ]
  },
  {
   "cell_type": "code",
   "execution_count": 14,
   "id": "42d945dd",
   "metadata": {},
   "outputs": [],
   "source": [
    "satnums = list(passed)\n",
    "JDs = list(passages)"
   ]
  },
  {
   "cell_type": "code",
   "execution_count": 15,
   "id": "8f6b3d1f",
   "metadata": {},
   "outputs": [
    {
     "data": {
      "text/plain": [
       "{'TLE line1': '1 00268U 61015CN  22295.53622885  .00000221  00000-0  79914-3 0  9996\\n',\n",
       " 'TLE line2': '2 00268  67.9363 132.2278 0651425  30.3261 358.4814 12.50687919786412\\n',\n",
       " 'passages': {1: {'jd': 2459876.516233906, 'lst': 21.83338055802537},\n",
       "  2: {'jd': 2459876.516307783, 'lst': 21.8351584754504},\n",
       "  3: {'jd': 2459876.51638166, 'lst': 21.83693638166895},\n",
       "  4: {'jd': 2459876.516455538, 'lst': 21.8387142878875},\n",
       "  5: {'jd': 2459876.516529415, 'lst': 21.84049220531254},\n",
       "  6: {'jd': 2459876.516603292, 'lst': 21.84227011153109},\n",
       "  7: {'jd': 2459876.51667717, 'lst': 21.84404801774965},\n",
       "  8: {'jd': 2459876.516751047, 'lst': 21.84582593517469},\n",
       "  9: {'jd': 2459876.516824924, 'lst': 21.84760384139325},\n",
       "  10: {'jd': 2459876.516898802, 'lst': 21.84938174761182},\n",
       "  11: {'jd': 2459876.516972679, 'lst': 21.85115965383038},\n",
       "  12: {'jd': 2459876.517046556, 'lst': 21.85293757125543},\n",
       "  13: {'jd': 2459876.517120434, 'lst': 21.854715477474},\n",
       "  14: {'jd': 2459876.517194311, 'lst': 21.85649339489905},\n",
       "  15: {'jd': 2459876.517268188, 'lst': 21.8582713011177},\n",
       "  16: {'jd': 2459876.517342054, 'lst': 21.86004892717451},\n",
       "  17: {'jd': 2459876.517415931, 'lst': 21.86182684459956},\n",
       "  18: {'jd': 2459876.517489809, 'lst': 21.86360475081814},\n",
       "  19: {'jd': 2459876.517563686, 'lst': 21.8653826570368},\n",
       "  20: {'jd': 2459876.517637563, 'lst': 21.86716057446178},\n",
       "  21: {'jd': 2459876.517711441, 'lst': 21.86893848068045},\n",
       "  22: {'jd': 2459876.517785318, 'lst': 21.87071638689904},\n",
       "  23: {'jd': 2459876.517859195, 'lst': 21.8724943043241},\n",
       "  24: {'jd': 2459876.517933073, 'lst': 21.87427221054269},\n",
       "  25: {'jd': 2459876.51800695, 'lst': 21.87605011676128},\n",
       "  26: {'jd': 2459876.518080827, 'lst': 21.87782802297988},\n",
       "  27: {'jd': 2459876.518154693, 'lst': 21.87960566024326},\n",
       "  28: {'jd': 2459876.518228559, 'lst': 21.88138329750657},\n",
       "  29: {'jd': 2459876.518302436, 'lst': 21.88316120372516}}}"
      ]
     },
     "execution_count": 15,
     "metadata": {},
     "output_type": "execute_result"
    }
   ],
   "source": [
    "passed[satnums[0]]"
   ]
  },
  {
   "cell_type": "code",
   "execution_count": 31,
   "id": "28e4095d",
   "metadata": {},
   "outputs": [],
   "source": [
    "# Lets collect the sat number for each JD in the passages file\n",
    "passages_satnums = []\n",
    "for JD in JDs:\n",
    "    passages_satnums.extend(list(passages[JD]))\n",
    "    \n",
    "# Now remove duplicates\n",
    "passages_satnums = list(set(passages_satnums))"
   ]
  },
  {
   "cell_type": "code",
   "execution_count": 37,
   "id": "51babc14",
   "metadata": {},
   "outputs": [
    {
     "name": "stdout",
     "output_type": "stream",
     "text": [
      "7152\n",
      "7152\n",
      "They have the same elements\n"
     ]
    }
   ],
   "source": [
    "print(len(satnums))\n",
    "print(len(passages_satnums))\n",
    "\n",
    "if set(passages_satnums) == set(satnums):\n",
    "    print(\"They have the same elements\")\n",
    "else:\n",
    "    print(\"They do not have the same elements\")"
   ]
  },
  {
   "cell_type": "code",
   "execution_count": 151,
   "id": "3669d226",
   "metadata": {},
   "outputs": [],
   "source": [
    "### Realized there's a better way to do this function\n",
    "\n",
    "def new_passage_check(midJD, tles, passages):\n",
    "        \n",
    "    idx_reduced = []\n",
    "    sats = passages[midJD].keys()\n",
    "    \n",
    "    satnums = []\n",
    "    for tle in tles:\n",
    "        satnums.append(tle[1].split()[1])\n",
    "\n",
    "    # faster than nested for loop\n",
    "    for i, sat in enumerate(sats):\n",
    "        if sat in satnums:\n",
    "            idx = satnums.index(sat)\n",
    "            idx_reduced.append(idx)\n",
    "  \n",
    "    return idx_reduced"
   ]
  },
  {
   "cell_type": "code",
   "execution_count": 152,
   "id": "23eefda3",
   "metadata": {},
   "outputs": [
    {
     "name": "stdout",
     "output_type": "stream",
     "text": [
      "CPU times: user 5.07 ms, sys: 256 µs, total: 5.33 ms\n",
      "Wall time: 5.18 ms\n"
     ]
    },
    {
     "data": {
      "text/plain": [
       "[3]"
      ]
     },
     "execution_count": 152,
     "metadata": {},
     "output_type": "execute_result"
    }
   ],
   "source": [
    "%%time\n",
    "new_idx = new_passage_check(JDs[0], tles, passages)\n",
    "new_idx"
   ]
  },
  {
   "cell_type": "code",
   "execution_count": 153,
   "id": "88d8bbae",
   "metadata": {},
   "outputs": [],
   "source": [
    "def old_passage_check(midJD, tles, passages):\n",
    "        \n",
    "    idx_reduced = None\n",
    "    sats = passages[midJD].keys()\n",
    "    \n",
    "    satnums = []\n",
    "    for tle in tles:\n",
    "        satnums.append(tle[1].split()[1])\n",
    "\n",
    "    crossref = []\n",
    "    for sat in sats:\n",
    "        if sat in satnums:\n",
    "            crossref.append(sat)\n",
    "\n",
    "    if len(crossref) > 0:\n",
    "        idx_reduced = []\n",
    "        for x in crossref:\n",
    "            for i, tle in enumerate(tles):\n",
    "                if x == tle[1].split()[1]:\n",
    "                    idx_reduced.append(i)\n",
    "        \n",
    "    return idx_reduced"
   ]
  },
  {
   "cell_type": "code",
   "execution_count": 154,
   "id": "451129f4",
   "metadata": {},
   "outputs": [
    {
     "name": "stdout",
     "output_type": "stream",
     "text": [
      "CPU times: user 8.32 ms, sys: 191 µs, total: 8.51 ms\n",
      "Wall time: 8.43 ms\n"
     ]
    },
    {
     "data": {
      "text/plain": [
       "[3]"
      ]
     },
     "execution_count": 154,
     "metadata": {},
     "output_type": "execute_result"
    }
   ],
   "source": [
    "%%time\n",
    "old_idx = old_passage_check(JDs[0], tles, passages)\n",
    "old_idx"
   ]
  },
  {
   "cell_type": "markdown",
   "id": "bec8248c",
   "metadata": {},
   "source": [
    "### Check if satellite coords in passages match those calculated "
   ]
  },
  {
   "cell_type": "code",
   "execution_count": 163,
   "id": "06cd72a1",
   "metadata": {},
   "outputs": [
    {
     "data": {
      "text/plain": [
       "['STARLINK-2606',\n",
       " '1 48386U 21038AK  22295.51609890  .00000159  00000-0  29547-4 0  9997',\n",
       " '2 48386  53.0552 127.0618 0001573 106.4026 253.7136 15.06396948 81211']"
      ]
     },
     "execution_count": 163,
     "metadata": {},
     "output_type": "execute_result"
    }
   ],
   "source": [
    "tles[new_idx[0]]"
   ]
  },
  {
   "cell_type": "code",
   "execution_count": 164,
   "id": "a95f1459",
   "metadata": {},
   "outputs": [
    {
     "data": {
      "text/plain": [
       "{'start': {'jd': 2459876.516196968,\n",
       "  'lst': 21.832494040233648,\n",
       "  'ra': 318.5476590312142,\n",
       "  'dec': -48.97685923149278,\n",
       "  'x0': 2378.002001747682,\n",
       "  'y0': 2162.5718866860293},\n",
       " 'end': {'jd': 2459876.5162708443,\n",
       "  'lst': 21.834267075817095,\n",
       "  'ra': 322.9977361234362,\n",
       "  'dec': -52.35211620986041,\n",
       "  'x0': 2233.8918844758578,\n",
       "  'y0': 2332.574848495738}}"
      ]
     },
     "execution_count": 164,
     "metadata": {},
     "output_type": "execute_result"
    }
   ],
   "source": [
    "passages[JDs[0]]['48386U']"
   ]
  },
  {
   "cell_type": "code",
   "execution_count": 166,
   "id": "3d7bd58e",
   "metadata": {},
   "outputs": [],
   "source": [
    "ts = load.timescale()\n",
    "line1 = tles[new_idx[0]][0]\n",
    "line2 = tles[new_idx[0]][1]\n",
    "line3 = tles[new_idx[0]][2] \n",
    "sat = EarthSatellite(line2, line3, line1, ts)"
   ]
  },
  {
   "cell_type": "code",
   "execution_count": 186,
   "id": "0b7c1ad8",
   "metadata": {},
   "outputs": [
    {
     "name": "stdout",
     "output_type": "stream",
     "text": [
      "292.23936732678953\n",
      "-10.878966819859329\n",
      "292.55413739978684 -10.83058212781927\n"
     ]
    }
   ],
   "source": [
    "site = get_siteinfo()\n",
    "mascara = wgs84.latlon(latitude_degrees=site[0][1], longitude_degrees=site[0][2], elevation_m=site[0][3])\n",
    "diff = sat - mascara\n",
    "topocentric = diff.at(ts.tt_jd(JDs[0]))\n",
    "alt, az, dist = topocentric.altaz()\n",
    "ra, dec, radec_dist = topocentric.radec() \n",
    "\n",
    "print(ra._degrees)\n",
    "print(dec._degrees)\n",
    "\n",
    "ra_test, dec_test = j2000_to_equinox(ra._degrees, dec._degrees, JDs[0])\n",
    "print(ra_test, dec_test)"
   ]
  },
  {
   "cell_type": "code",
   "execution_count": 174,
   "id": "4cdd1295",
   "metadata": {},
   "outputs": [
    {
     "name": "stdout",
     "output_type": "stream",
     "text": [
      "From passages file:\n",
      "\n",
      "318.5476590312142\n",
      "-48.97685923149278\n"
     ]
    }
   ],
   "source": [
    "print('From passages file:\\n')\n",
    "print(passages[JDs[0]]['48386U']['start']['ra'])\n",
    "print(passages[JDs[0]]['48386U']['start']['dec'])"
   ]
  },
  {
   "cell_type": "markdown",
   "id": "5eab4593",
   "metadata": {},
   "source": [
    "### So, the (ra, dec) for the satellite differs between the computed skyfield one, and the one in the passages\n",
    "\n",
    "Are we sure we are looking at the correct JD? Is it midJD in both cases?\n",
    "\n",
    "I'm computing (ra,dec) using the midJD as the time of observation.\n",
    "\n",
    "I think that, in the passages file, the keys are the JD for the observation. But this doesn't correspond to the midJD of the image..\n",
    "\n",
    "That being said - in this example here, I used the same JD in both cases, yet the (ra,dec) still differs.\n",
    "\n"
   ]
  },
  {
   "cell_type": "code",
   "execution_count": 182,
   "id": "4bc20b0e",
   "metadata": {},
   "outputs": [],
   "source": [
    "\n",
    "### CHANGING WAY RA,DEC IS DEFINED ---> RESULT ADDS ANOTHER SAT, ASK ABOUT THIS!\n",
    "\n",
    "eph = load('de421.bsp')\n",
    "\n",
    "def new_check_each_camid():\n",
    "    \n",
    "    print('Getting Image Data')\n",
    "    LSC = image_data(\"LSC\")\n",
    "    LSE = image_data(\"LSE\")\n",
    "    \n",
    "    print('Getting Timeranges')\n",
    "    trC = image_timerange(LSC)\n",
    "    trE = image_timerange(LSE)\n",
    "\n",
    "    print('Getting Fast Curves')\n",
    "    fastC = h5py.File(\"../fast_20221023LSC.hdf5\", \"r\")    \n",
    "    fastE = h5py.File(\"../fast_20221023LSE.hdf5\", \"r\")    \n",
    "\n",
    "    print('Getting Passages')\n",
    "    psgsC = pd.read_pickle(\"../test_data/passages/passages_20221023LSC.p\")\n",
    "    psgsE = pd.read_pickle(\"../test_data/passages/passages_20221023LSE.p\")\n",
    "\n",
    "    print('Getting TLEs')\n",
    "    tlesC = reduce_tles(\"LSC\")\n",
    "    tlesE = reduce_tles(\"LSE\")\n",
    "    \n",
    "    # Define observer\n",
    "    site = get_siteinfo()\n",
    "    mascara = wgs84.latlon(latitude_degrees=site[0][1], longitude_degrees=site[0][2], elevation_m=site[0][3])\n",
    "    \n",
    "    # Want to check the date for each camid before moving on to the next date\n",
    "    # The LST sequences will be the same for each camid\n",
    "    \n",
    "    print('Beginning Loop \\n')\n",
    "    \n",
    "    result = []\n",
    "    for seq in fastC['station']['lstseq'][:]: \n",
    "        lstseq = str(seq)\n",
    "\n",
    "        for data, timerange, camid, fast, starlinks, passages in zip(\n",
    "            [LSC, LSE], [trC, trE], ['LSC', 'LSE'], [fastC, fastE], [tlesC, tlesE], [psgsC, psgsE]):\n",
    "\n",
    "            if lstseq not in data.keys():\n",
    "                #print(f'{lstseq} not in directory')\n",
    "                continue #this is only needed if not going through ALL images!\n",
    "\n",
    "            # Set time of image\n",
    "            midJD = data[lstseq]['midJD']\n",
    "            ts = load.timescale()\n",
    "            t  = ts.tt_jd(midJD)\n",
    "\n",
    "            # Obtain passages\n",
    "            idx_reduced = passage_check(midJD, starlinks, passages)\n",
    "\n",
    "            if idx_reduced is None:\n",
    "                print(f'{lstseq}: No starlinks passing MASCARA')\n",
    "                continue\n",
    "\n",
    "            else:\n",
    "                print(f'There are {len(idx_reduced)} Starlinks passing overhead {camid} for LSTSEQ={lstseq}')\n",
    "                # Attaining the astrometric solution (depends on FAST file and LSTseq)\n",
    "                astro = np.where((fast['astrometry/lstseq'][:] // 50) == (int(lstseq) // 50))[0][0]\n",
    "                order = fast['astrometry/x_wcs2pix'][astro].shape[0]-1\n",
    "                lst=fast['station/lst'][np.where(fast['station/lstseq'][:]==(fast['astrometry/lstseq'][astro]))[0][0]]\n",
    "                nx = data[lstseq]['nx']\n",
    "                ny = data[lstseq]['ny']\n",
    "\n",
    "                wcspars = { 'crval' : fast['astrometry/crval'][astro].copy(),\n",
    "                            'crpix' : fast['astrometry/crpix'][astro].copy(),\n",
    "                            'cdelt' : [0.02148591731740587,0.02148591731740587],\n",
    "                            'pc'    : fast['astrometry/pc'][astro].copy(),\n",
    "                            'lst'   : lst }\n",
    "\n",
    "                polpars = { 'x_wcs2pix' : fast['astrometry/x_wcs2pix'][astro].copy(),\n",
    "                            'y_wcs2pix' : fast['astrometry/y_wcs2pix'][astro].copy(),\n",
    "                            'x_pix2wcs' : fast['astrometry/x_pix2wcs'][astro].copy(),\n",
    "                            'y_pix2wcs' : fast['astrometry/y_pix2wcs'][astro].copy(),\n",
    "                            'nx'    : nx,\n",
    "                            'ny'    : ny,\n",
    "                            'order' : order }\n",
    "\n",
    "                midLST = data[lstseq]['midLST']\n",
    "\n",
    "                for idx in idx_reduced:\n",
    "                    line1 = starlinks[idx][0]\n",
    "                    line2 = starlinks[idx][1]\n",
    "                    line3 = starlinks[idx][2] \n",
    "                    sat = EarthSatellite(line2, line3, line1, ts)\n",
    "\n",
    "                    diff = sat - mascara\n",
    "                    topocentric = diff.at(t)\n",
    "                    alt, az, dist = topocentric.altaz()\n",
    "                    \n",
    "                    # Criteria check: if satellite is >20 degrees above the horizon\n",
    "                    if alt.degrees >= 20:\n",
    "                        \n",
    "                        # Criteria check: if satellite is illuminated\n",
    "                        illuminated = check_illumination(data, midJD, timerange, sat)\n",
    "                        \n",
    "                        if illuminated:\n",
    "                            \n",
    "                            #### ASK ABOUT THIS ####\n",
    "                            satnum = line2[2:8]\n",
    "                            ra  = passages[midJD][satnum]['start']['ra']\n",
    "                            dec = passages[midJD][satnum]['start']['dec']\n",
    "                            w = create_wcs(wcspars, midLST)\n",
    "                            xwcs, ywcs = w.wcs_world2pix(ra, dec, 0)\n",
    "                            mask = np.isfinite(xwcs) & clip_rectangle(xwcs, ywcs, nx, ny, margin=50)\n",
    "\n",
    "                            if mask:\n",
    "                                print(f\"At least one Starlink should be in {camid} FOV\")\n",
    "                                image = lstseq + camid\n",
    "                                result.append(image)\n",
    "                                break #so to continue to next LSTSEQ if at least one starlink is found!\n",
    "                \n",
    "                print('\\n')\n",
    "\n",
    "\n",
    "\n",
    "    fastC.close()\n",
    "    fastE.close()\n",
    "    \n",
    "    if len(result) > 0:\n",
    "        np.savetxt('../selection_pool_test.txt', result, fmt='%s')\n",
    "        \n",
    "    return result"
   ]
  },
  {
   "cell_type": "code",
   "execution_count": 183,
   "id": "fb224389",
   "metadata": {},
   "outputs": [
    {
     "name": "stdout",
     "output_type": "stream",
     "text": [
      "Getting Image Data\n",
      "Getting Timeranges\n",
      "Getting Fast Curves\n",
      "Getting Passages\n",
      "Getting TLEs\n",
      "Beginning Loop \n",
      "\n",
      "There are 2 Starlinks passing overhead LSC for LSTSEQ=48506377\n",
      "At least one Starlink should be in LSC FOV\n",
      "\n",
      "\n",
      "There are 6 Starlinks passing overhead LSE for LSTSEQ=48506377\n",
      "At least one Starlink should be in LSE FOV\n",
      "\n",
      "\n",
      "There are 2 Starlinks passing overhead LSC for LSTSEQ=48507687\n",
      "\n",
      "\n",
      "There are 5 Starlinks passing overhead LSE for LSTSEQ=48507687\n",
      "\n",
      "\n"
     ]
    }
   ],
   "source": [
    "res = new_check_each_camid()"
   ]
  },
  {
   "cell_type": "code",
   "execution_count": 184,
   "id": "cde52b06",
   "metadata": {},
   "outputs": [
    {
     "data": {
      "text/plain": [
       "['48506377LSC', '48506377LSE']"
      ]
     },
     "execution_count": 184,
     "metadata": {},
     "output_type": "execute_result"
    }
   ],
   "source": [
    "res"
   ]
  },
  {
   "cell_type": "markdown",
   "id": "effc8eed",
   "metadata": {},
   "source": [
    "## Compare (ra, dec) computation\n",
    "\n",
    "\n",
    "OKAY - passages file defined by JDs. These do not correspond to the midJD of the image. So, (ra,dec) for each satellite in the passages file is computed at a different time than what I compute it for using skyfield."
   ]
  },
  {
   "cell_type": "code",
   "execution_count": 26,
   "id": "e1f6e900",
   "metadata": {},
   "outputs": [],
   "source": [
    "import ephem"
   ]
  },
  {
   "cell_type": "code",
   "execution_count": 73,
   "id": "bbcfe76d",
   "metadata": {},
   "outputs": [],
   "source": [
    "fast = h5py.File(\"../fast_20221023LSC.hdf5\", \"r\")\n",
    "lstseq = '48506377'\n",
    "astro = np.where((fast['astrometry/lstseq'][:] // 50) == (int(lstseq) // 50))[0][0]\n",
    "order = fast['astrometry/x_wcs2pix'][astro].shape[0]-1\n",
    "lst=fast['station/lst'][np.where(fast['station/lstseq'][:]==(fast['astrometry/lstseq'][astro]))[0][0]]\n",
    "nx = imgdata[lstseq]['nx']\n",
    "ny = imgdata[lstseq]['ny']\n",
    "\n",
    "wcspars = { 'crval' : fast['astrometry/crval'][astro].copy(),\n",
    "            'crpix' : fast['astrometry/crpix'][astro].copy(),\n",
    "            'cdelt' : [0.02148591731740587,0.02148591731740587],\n",
    "            'pc'    : fast['astrometry/pc'][astro].copy(),\n",
    "            'lst'   : lst }\n",
    "\n",
    "polpars = { 'x_wcs2pix' : fast['astrometry/x_wcs2pix'][astro].copy(),\n",
    "            'y_wcs2pix' : fast['astrometry/y_wcs2pix'][astro].copy(),\n",
    "            'x_pix2wcs' : fast['astrometry/x_pix2wcs'][astro].copy(),\n",
    "            'y_pix2wcs' : fast['astrometry/y_pix2wcs'][astro].copy(),\n",
    "            'nx'    : nx,\n",
    "            'ny'    : ny,\n",
    "            'order' : order }"
   ]
  },
  {
   "cell_type": "code",
   "execution_count": 85,
   "id": "e87ba179",
   "metadata": {},
   "outputs": [
    {
     "name": "stdout",
     "output_type": "stream",
     "text": [
      "Skyfield:\n",
      "(Ra, Dec) = 354.82645952000723, 19.037414809042392\n",
      "\n",
      "Pyephem:\n",
      "(Ra, Dec) = 7.069587065838038, 30.407324172735514\n"
     ]
    }
   ],
   "source": [
    "imgdata = image_data('LSC')\n",
    "starlinks = reduce_tles('LSC')\n",
    "midJD = imgdata[list(imgdata)[0]]['midJD']\n",
    "midLST = imgdata[list(imgdata)[0]]['midLST']\n",
    "\n",
    "line1 = starlinks[11][0]\n",
    "line2 = starlinks[11][1]\n",
    "line3 = starlinks[11][2] \n",
    "\n",
    "# Skyfield\n",
    "ts = load.timescale()\n",
    "sat_sky = EarthSatellite(line2, line3, line1, ts)\n",
    "mascara = wgs84.latlon(latitude_degrees=site[0][1], longitude_degrees=site[0][2], elevation_m=site[0][3])\n",
    "diff = sat_sky - mascara\n",
    "topocentric = diff.at(ts.tt_jd(midJD))\n",
    "ra, dec, radec_dist = topocentric.radec() \n",
    "ra_sky = ra._degrees\n",
    "de_sky = dec._degrees\n",
    "\n",
    "# Pyephem\n",
    "sat_eph = ephem.readtle(line1, line2, line3)\n",
    "site = get_siteinfo()\n",
    "obs = ephem.Observer()\n",
    "obs.lat = site['lat']*np.pi/180\n",
    "obs.long = site['lon']*np.pi/180\n",
    "obs.elev = site['height']\n",
    "edate = ephem.Date('2000/01/01 12:00:00.0')\n",
    "obs.epoch = edate  \n",
    "exptime = 6.382928100414574 #exposure time (making this up!)\n",
    "\n",
    "#pyephem.date is the number of days since 1899 December 31 12:00 UT (2415020 JD) \n",
    "obs.date = midJD - 2415020-0.5*exptime/86400\n",
    "sat_eph.compute(obs)\n",
    "\n",
    "ra_eph = sat_eph.a_ra * (180/np.pi)\n",
    "de_eph = sat_eph.a_dec * (180/np.pi)\n",
    "\n",
    "\n",
    "print('Skyfield:')\n",
    "print(f'(Ra, Dec) = {ra_sky}, {de_sky}\\n')\n",
    "\n",
    "print('Pyephem:')\n",
    "print(f'(Ra, Dec) = {ra_eph}, {de_eph}')"
   ]
  },
  {
   "cell_type": "code",
   "execution_count": 105,
   "id": "9486c071",
   "metadata": {},
   "outputs": [],
   "source": [
    "# .fraction_illuminated(eph['sun'])"
   ]
  },
  {
   "cell_type": "code",
   "execution_count": 135,
   "id": "2819c0db",
   "metadata": {},
   "outputs": [
    {
     "name": "stdout",
     "output_type": "stream",
     "text": [
      "32.95338437287889\n"
     ]
    }
   ],
   "source": [
    "# Angle between the sun and the observer on earth as observed by a satellite: \n",
    "\n",
    "ts = load.timescale()\n",
    "eph = load('de421.bsp')\n",
    "earth = eph['earth']\n",
    "sun = eph['sun']\n",
    "\n",
    "test = earth + sat_sky\n",
    "t = ts.tt_jd(midJD)\n",
    "\n",
    "sun_position = test.at(t).observe(sun)\n",
    "earth_position = test.at(t).observe(earth+mascara)\n",
    "x\n",
    "phase_angle = sun_position.separation_from(earth_position)\n",
    "\n",
    "print(phase_angle.degrees)"
   ]
  },
  {
   "cell_type": "code",
   "execution_count": 120,
   "id": "737d320d",
   "metadata": {},
   "outputs": [
    {
     "name": "stdout",
     "output_type": "stream",
     "text": [
      "32.95327763516486\n"
     ]
    }
   ],
   "source": [
    "# Angle between the observer and the Sun from the satellite's point of view:\n",
    "\n",
    "obs  = earth + mascara\n",
    "test = earth + sat_sky\n",
    "\n",
    "topo_sat_obs = test.at(t).observe(obs).apparent()\n",
    "topo_sat_sun = test.at(t).observe(sun).apparent()\n",
    "\n",
    "phase_angle = topo_sat_obs.separation_from(topo_sat_sun)\n",
    "print(phase_angle.degrees)"
   ]
  },
  {
   "cell_type": "code",
   "execution_count": 133,
   "id": "2cc00077",
   "metadata": {},
   "outputs": [
    {
     "data": {
      "text/plain": [
       "0.30210702901977293"
      ]
     },
     "execution_count": 133,
     "metadata": {},
     "output_type": "execute_result"
    }
   ],
   "source": [
    "test.at(t).phase_angle(eph['sun']).degrees #the position’s phase angle: the angle of Sun-target-observer"
   ]
  },
  {
   "cell_type": "code",
   "execution_count": 130,
   "id": "a5ad6320",
   "metadata": {},
   "outputs": [
    {
     "data": {
      "text/plain": [
       "0.9999930495104037"
      ]
     },
     "execution_count": 130,
     "metadata": {},
     "output_type": "execute_result"
    }
   ],
   "source": [
    "test.at(t).fraction_illuminated(eph['sun'])"
   ]
  }
 ],
 "metadata": {
  "kernelspec": {
   "display_name": "Python 3 (ipykernel)",
   "language": "python",
   "name": "python3"
  },
  "language_info": {
   "codemirror_mode": {
    "name": "ipython",
    "version": 3
   },
   "file_extension": ".py",
   "mimetype": "text/x-python",
   "name": "python",
   "nbconvert_exporter": "python",
   "pygments_lexer": "ipython3",
   "version": "3.10.9"
  }
 },
 "nbformat": 4,
 "nbformat_minor": 5
}
