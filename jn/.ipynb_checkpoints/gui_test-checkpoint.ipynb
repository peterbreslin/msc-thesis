{
 "cells": [
  {
   "cell_type": "code",
   "execution_count": 1,
   "id": "208f445f",
   "metadata": {
    "ExecuteTime": {
     "end_time": "2022-09-29T15:03:41.330460Z",
     "start_time": "2022-09-29T15:03:41.269757Z"
    }
   },
   "outputs": [],
   "source": [
    "import tkinter as tk\n",
    "import tkinter.ttk as ttk"
   ]
  },
  {
   "cell_type": "code",
   "execution_count": null,
   "id": "52debf92",
   "metadata": {},
   "outputs": [],
   "source": [
    "app = tk.Tk()\n",
    "\n",
    "frame = tk.Frame(master=app, width=100, height=30, bg='black')\n",
    "frame.pack(fill=tk.BOTH, side=tk.LEFT, expand=True)\n",
    "\n",
    "label = tk.Label(master=frame, text='Starlink Tracker', fg='white')\n",
    "label.pack()\n",
    "\n",
    "button = tk.Button(master=frame, text='Track', fg='white', bg='purple')\n",
    "button.pack()\n",
    "\n",
    "entry = tk.Entry(master=frame, fg='yellow', bg='blue', width=50)\n",
    "entry.pack()\n",
    "\n",
    "app.mainloop()"
   ]
  },
  {
   "cell_type": "code",
   "execution_count": null,
   "id": "91c5afc0",
   "metadata": {},
   "outputs": [],
   "source": [
    "app = tk.Tk()\n",
    "\n",
    "for i in range(3):\n",
    "    app.columnconfigure(i, weight=1, minsize=75)\n",
    "    app.rowconfigure(i, weight=1, minsize=50)\n",
    "\n",
    "    for j in range(0, 3):\n",
    "        frame = tk.Frame(\n",
    "            master=app,\n",
    "            relief=tk.RAISED,\n",
    "            borderwidth=1\n",
    "        )\n",
    "        frame.grid(row=i, column=j, padx=5, pady=5)\n",
    "        label = tk.Label(master=frame, text=f\"Row {i}\\nColumn {j}\")\n",
    "        label.pack(padx=5, pady=5)\n",
    "\n",
    "app.mainloop()"
   ]
  },
  {
   "cell_type": "code",
   "execution_count": null,
   "id": "6501d14e",
   "metadata": {},
   "outputs": [],
   "source": [
    "window = tk.Tk()\n",
    "\n",
    "def handle_keypress(event):\n",
    "    \"\"\"Print the character associated to the key pressed\"\"\"\n",
    "    print(event.char)\n",
    "\n",
    "# Bind keypress event to handle_keypress()\n",
    "window.bind(\"<Key>\", handle_keypress)\n",
    "\n",
    "window.mainloop()"
   ]
  },
  {
   "cell_type": "code",
   "execution_count": null,
   "id": "4a367e9d",
   "metadata": {},
   "outputs": [],
   "source": [
    "app = tk.Tk()\n",
    "\n",
    "def increase():\n",
    "    value = int(label['text'])\n",
    "    label['text'] = f'{value + 1}'\n",
    "    \n",
    "def decrease():\n",
    "    value = int(label['text'])\n",
    "    label['text'] = f'{value - 1}'\n",
    "\n",
    "app.rowconfigure(0, minsize=50, weight=1)\n",
    "app.columnconfigure([0, 1, 2], minsize=50, weight=1)\n",
    "\n",
    "btn_dec = tk.Button(master=app, text='-', command=decrease)\n",
    "btn_dec.grid(row=0, column=0, sticky='nsew')\n",
    "\n",
    "label = tk.Label(master=app, text='0')\n",
    "label.grid(row=0, column=1)\n",
    "\n",
    "btn_inc = tk.Button(master=app, text='+', command=increase)\n",
    "btn_inc.grid(row=0, column=2, sticky='nsew')\n",
    "\n",
    "app.mainloop()"
   ]
  },
  {
   "cell_type": "code",
   "execution_count": null,
   "id": "3c52fabc",
   "metadata": {},
   "outputs": [],
   "source": [
    "app = tk.Tk()\n",
    "\n",
    "app.rowconfigure(1, minsize=50, weight=1)\n",
    "app.columnconfigure([0, 1, 2], minsize=50, weight=1)\n",
    "\n",
    "frame = tk.Frame(master=app, relief=tk.RAISED, borderwidth=1)\n",
    "frame.grid(row=0, column=1, sticky='nsew', padx=5, pady=5)\n",
    "\n",
    "tit = tk.Label(master=frame, text='Starlink Tracker', fg='black', bg='white')\n",
    "tit.pack(padx=5, pady=5)\n",
    "\n",
    "b1 = tk.Button(master=app, text='Live Tracking', fg='black', bg='white')\n",
    "b1.grid(row=1, column=0, sticky='nsew')\n",
    "\n",
    "b2 = tk.Button(master=app, text='Snapshot', fg='black', bg='white')\n",
    "b2.grid(row=1, column=1, sticky='nsew')\n",
    "\n",
    "b3 = tk.Button(master=app, text='Predicted Tracks', fg='black', bg='white')\n",
    "b3.grid(row=1, column=2, sticky='nsew')\n",
    "\n",
    "\n",
    "app.mainloop()"
   ]
  }
 ],
 "metadata": {
  "kernelspec": {
   "display_name": "Python 3 (ipykernel)",
   "language": "python",
   "name": "python3"
  },
  "language_info": {
   "codemirror_mode": {
    "name": "ipython",
    "version": 3
   },
   "file_extension": ".py",
   "mimetype": "text/x-python",
   "name": "python",
   "nbconvert_exporter": "python",
   "pygments_lexer": "ipython3",
   "version": "3.8.10"
  }
 },
 "nbformat": 4,
 "nbformat_minor": 5
}
