{
 "cells": [
  {
   "cell_type": "code",
   "execution_count": 1,
   "id": "873b895d",
   "metadata": {},
   "outputs": [],
   "source": [
    "import os\n",
    "import glob\n",
    "import time\n",
    "import numpy as np\n",
    "import pandas as pd\n",
    "import astropy.io.fits as pf\n",
    "import matplotlib.pyplot as plt\n",
    "from skyfield.api import load, wgs84, EarthSatellite, S, W"
   ]
  },
  {
   "cell_type": "code",
   "execution_count": 2,
   "id": "6d66aab0",
   "metadata": {},
   "outputs": [
    {
     "name": "stdout",
     "output_type": "stream",
     "text": [
      "Number of satellites recorded for this day: 72222\n",
      "Number of them that were Starlinks: 3179\n",
      "Number of Starlinks that passed MASCARA: 931\n"
     ]
    }
   ],
   "source": [
    "# Load TLEs for all passages\n",
    "with open('../test_data/3leComplete.txt') as f:\n",
    "    all_tles = f.readlines()\n",
    "    f.close()   \n",
    "\n",
    "# Split TLE list into individual lists for each TLE\n",
    "all_tles = [i.strip() for i in all_tles]\n",
    "tles = [all_tles[x:x+3] for x in range(0, len(all_tles), 3)]\n",
    "\n",
    "# Reduce TLEs to Starlink only\n",
    "starlink_tles = []\n",
    "for tle in tles:\n",
    "    if \"STARLINK\" in tle[0]:\n",
    "        starlink_tles.append(tle)\n",
    "\n",
    "# Obtain satellite passages\n",
    "passed_sats = pd.read_pickle('../test_data/passed_satellites_20221023LSC.p') #passages = passages_20221023LSC.p\n",
    "keys = list(passed_sats)\n",
    "\n",
    "# Find any Starlink TLEs in the passages\n",
    "idx = []\n",
    "starlinks = np.asarray(starlink_tles).flatten()\n",
    "for key in keys:\n",
    "    mascara_tle1 = passed_sats[key]['TLE line1'].strip()\n",
    "    i = np.where(starlinks == mascara_tle1)[0] #this is not going to be fast for big lists...\n",
    "    if i.size > 0:\n",
    "        idx.append(i[0] - 1) #appending the name of the starlink sat\n",
    "        \n",
    "# Now have indices for the flattened Starlink TLE list --> divide by 3 to get indices for the original list\n",
    "orig_idx = [int(x/3) for x in idx]\n",
    "slk_mas_tles = res_list = [starlink_tles[i] for i in orig_idx]\n",
    "\n",
    "# Remove 0 labeling of first line of TLE because that's the proper format\n",
    "for tle in slk_mas_tles:\n",
    "    tle[0] = tle[0][2:]\n",
    "\n",
    "print(f'Number of satellites recorded for this day: {len(all_tles)}')\n",
    "print(f'Number of them that were Starlinks: {len(starlink_tles)}')\n",
    "print(f'Number of Starlinks that passed MASCARA: {len(slk_mas_tles)}')"
   ]
  },
  {
   "cell_type": "code",
   "execution_count": 3,
   "id": "2c7efb06",
   "metadata": {},
   "outputs": [
    {
     "name": "stdout",
     "output_type": "stream",
     "text": [
      "Determining timerange\n",
      "Oldest date: 2022-10-24 00:24:08 UTC\n",
      "Newest date: 2022-10-24 08:43:22 UTC\n",
      "Runtime: 4.108465909957886\n"
     ]
    }
   ],
   "source": [
    "### DETERMINE TIMERANGE OF IMAGES\n",
    "\n",
    "t0 = time.time()\n",
    "ts = load.timescale()\n",
    "folder = '../test_data/diff_images/'\n",
    "images = glob.glob(f'{folder}diff_*.fits.gz')\n",
    "\n",
    "dates = [] \n",
    "names = []\n",
    "\n",
    "# Loop over each image\n",
    "print('Determining timerange')\n",
    "for img in images:\n",
    "    _, header = pf.getdata(img, header=True)\n",
    "    midJD = ts.tt_jd(header[12]).tt\n",
    "    names.append(img)\n",
    "    dates.append(midJD)\n",
    "\n",
    "oldest = min(dates)\n",
    "newest = max(dates)\n",
    "\n",
    "# Converting to utc for convenience\n",
    "newest = ts.tt_jd(newest).utc_strftime()\n",
    "oldest = ts.tt_jd(oldest).utc_strftime()\n",
    "print('Oldest date:', oldest)\n",
    "print('Newest date:', newest)\n",
    "\n",
    "beg = pd.to_datetime(oldest)\n",
    "end = pd.to_datetime(newest)\n",
    "rng = pd.date_range(beg, end, freq='0.05H').to_pydatetime().tolist() #every 3 minutes=\n",
    "timerange = ts.from_datetimes(rng)\n",
    "print(f'Runtime: {str(time.time() - t0)}')"
   ]
  },
  {
   "cell_type": "code",
   "execution_count": 4,
   "id": "50656af9",
   "metadata": {},
   "outputs": [
    {
     "data": {
      "text/plain": [
       "<Time tt=[2459876.51756 ... 2459876.8633933333] len=167>"
      ]
     },
     "execution_count": 4,
     "metadata": {},
     "output_type": "execute_result"
    }
   ],
   "source": [
    "timerange"
   ]
  },
  {
   "cell_type": "code",
   "execution_count": 5,
   "id": "d646a2bc",
   "metadata": {},
   "outputs": [
    {
     "name": "stdout",
     "output_type": "stream",
     "text": [
      "Creating EarthSatellites\n",
      "Finding sunlit times\n"
     ]
    }
   ],
   "source": [
    "### DETERMINE SUNLIT PERIODS\n",
    "\n",
    "t0 = time.time()\n",
    "\n",
    "# Load the DE421 planetary ephemeris to get positions of Sun and Earth\n",
    "eph = load('de421.bsp')\n",
    "sun = eph['sun']\n",
    "earth = eph['earth']\n",
    "\n",
    "# Location of MASCARA\n",
    "mascara = wgs84.latlon(latitude_degrees=29.26111*S, longitude_degrees=70.73139*W, elevation_m=2400)\n",
    "\n",
    "# Set the observer to be MASCARA at ESO's La Silla Observatory\n",
    "observer = earth + mascara\n",
    "\n",
    "# Convert our TLEs to Skyfield EarthSatellites\n",
    "print('Creating EarthSatellites')\n",
    "sats = []\n",
    "for tle in slk_mas_tles:\n",
    "    sats.append(EarthSatellite(tle[1], tle[2], tle[0]))\n",
    "\n",
    "# We now begin to create a list of timeranges for which a satellite is sunlit\n",
    "starlink_times = {}\n",
    "\n",
    "print('Finding sunlit times')\n",
    "for sat in sats:\n",
    "    # Check when satellite is sunlit \n",
    "    sunlit = sat.at(timerange).is_sunlit(eph)\n",
    "\n",
    "    # Obtain the indices of the first and last TRUE element for each sequence of TRUE elements \n",
    "    x = 0\n",
    "    idx = []\n",
    "    for i, n in enumerate(sunlit):\n",
    "        if n and x==0:\n",
    "            idx.append(i)\n",
    "            x=1\n",
    "        if not n and x==1:\n",
    "            idx.append(i-1)\n",
    "            x=0\n",
    "        if n and i==len(sunlit)-1:\n",
    "            idx.append(i)\n",
    "\n",
    "    # Obtain times corresponding to the inidces found \n",
    "    sunlit_ = [timerange.tt[i] for i in idx]\n",
    "\n",
    "    # Now split into separate list --> now have the start and end time for each sunlit period\n",
    "    values = [sunlit_[i:i + 2] for i in range(0, len(sunlit_), 2)]\n",
    "    starlink_times[sat.name] = values"
   ]
  },
  {
   "cell_type": "code",
   "execution_count": 6,
   "id": "490e8189",
   "metadata": {},
   "outputs": [
    {
     "data": {
      "text/plain": [
       "['STARLINK-2181',\n",
       " 'STARLINK-2196',\n",
       " 'STARLINK-2641',\n",
       " 'STARLINK-2606',\n",
       " 'STARLINK-3115',\n",
       " 'STARLINK-3627',\n",
       " 'STARLINK-3557',\n",
       " 'STARLINK-1119',\n",
       " 'STARLINK-1502',\n",
       " 'STARLINK-2195']"
      ]
     },
     "execution_count": 6,
     "metadata": {},
     "output_type": "execute_result"
    }
   ],
   "source": [
    "list(starlink_times)[0:10]"
   ]
  },
  {
   "cell_type": "code",
   "execution_count": 7,
   "id": "df019f7f",
   "metadata": {},
   "outputs": [
    {
     "name": "stdout",
     "output_type": "stream",
     "text": [
      "Checking when each sunlit Starlink is within image\n",
      "# images expected to have Starlink trails visible: 4 out of 5\n"
     ]
    }
   ],
   "source": [
    "### FINDING IF EACH SUNLIT STARLINK IS WITHIN THE IMAGE DATE\n",
    "\n",
    "# We have a dictionary where each key is a Starlink ID. \n",
    "# In each key, we have a list of sunlit periods where each element is a list of the start and end time. \n",
    "# Must now loop through every Starlink ID and check if any of the sunlit periods are within the midJD of the image.\n",
    "\n",
    "\n",
    "img_with_sunlit_starlink = []\n",
    "print('Checking when each sunlit Starlink is within image')\n",
    "t0 = time.time()\n",
    "\n",
    "for i, name in enumerate(names):\n",
    "    X = True\n",
    "\n",
    "    for sat in list(starlink_times):\n",
    "        for sunlitrng in starlink_times[sat]:\n",
    "            if dates[i] >= sunlitrng[0] and dates[i] <= sunlitrng[1]:\n",
    "                img_with_sunlit_starlink.append(name)\n",
    "                X = False\n",
    "                break\n",
    "\n",
    "        if not X:\n",
    "            break\n",
    "\n",
    "print(f'# images expected to have Starlink trails visible: {len(img_with_sunlit_starlink)} out of {len(names)}')"
   ]
  },
  {
   "cell_type": "markdown",
   "id": "96a05de7",
   "metadata": {},
   "source": [
    "### Check when satellite is above horizon:\n"
   ]
  },
  {
   "cell_type": "code",
   "execution_count": 8,
   "id": "bc1683db",
   "metadata": {},
   "outputs": [
    {
     "name": "stdout",
     "output_type": "stream",
     "text": [
      "2022 Oct 24 01:12:48 rise above 30°\n",
      "2022 Oct 24 01:14:00 culminate\n",
      "2022 Oct 24 01:15:13 set below 30°\n",
      "2022 Oct 24 16:00:10 rise above 30°\n",
      "2022 Oct 24 16:01:26 culminate\n",
      "2022 Oct 24 16:02:44 set below 30°\n"
     ]
    }
   ],
   "source": [
    "ts = load.timescale()\n",
    "\n",
    "mascara = wgs84.latlon(latitude_degrees=29.26111*S, longitude_degrees=70.73139*W, elevation_m=2400)\n",
    "t0 = ts.utc(2022, 10, 24)\n",
    "t1 = ts.utc(2022, 10, 25)\n",
    "\n",
    "sat = sats[100]\n",
    "t, events = sat.find_events(mascara, t0, t1, altitude_degrees=30)\n",
    "for ti, event in zip(t, events):\n",
    "    name = ('rise above 30°', 'culminate', 'set below 30°')[event]\n",
    "    print(ti.utc_strftime('%Y %b %d %H:%M:%S'), name)"
   ]
  },
  {
   "cell_type": "code",
   "execution_count": 9,
   "id": "9b29598f",
   "metadata": {},
   "outputs": [
    {
     "name": "stdout",
     "output_type": "stream",
     "text": [
      "Mon 24 06:57 rises\n",
      "Mon 24 19:57 sets\n"
     ]
    }
   ],
   "source": [
    "from skyfield.almanac import find_discrete, risings_and_settings\n",
    "from pytz import timezone\n",
    "\n",
    "eph = load('de421.bsp')\n",
    "\n",
    "f = risings_and_settings(eph, sun, mascara)\n",
    "tz = timezone('Chile/Continental')\n",
    "\n",
    "for t, updown in zip(*find_discrete(t0, t1, f)):\n",
    "    print(t.astimezone(tz).strftime('%a %d %H:%M'),\n",
    "          'rises' if updown else 'sets')"
   ]
  },
  {
   "cell_type": "markdown",
   "id": "79329bdc",
   "metadata": {},
   "source": [
    "### TWILIGHT\n",
    "Might not be any need to do this since MASCARA only opens when the right conditions are met\n",
    "\n",
    "Could be useful for more in-depth analysis"
   ]
  },
  {
   "cell_type": "code",
   "execution_count": 10,
   "id": "ce74c785",
   "metadata": {},
   "outputs": [
    {
     "name": "stdout",
     "output_type": "stream",
     "text": [
      "2022-10-23 21:21   Astronomical twilight ends\n",
      "2022-10-24 05:32   Astronomical twilight starts\n",
      "2022-10-24 06:02   Nautical twilight starts\n",
      "2022-10-24 06:31   Civil twilight starts\n",
      "2022-10-24 06:56   Day starts\n",
      "2022-10-24 19:58   Day ends\n",
      "2022-10-24 20:22   Civil twilight ends\n",
      "2022-10-24 20:52   Nautical twilight ends\n",
      "2022-10-24 21:22   Astronomical twilight ends\n",
      "2022-10-25 05:31   Astronomical twilight starts\n",
      "2022-10-25 06:01   Nautical twilight starts\n",
      "2022-10-25 06:30   Civil twilight starts\n",
      "2022-10-25 06:55   Day starts\n",
      "2022-10-25 19:59   Day ends\n",
      "2022-10-25 20:23   Civil twilight ends\n",
      "2022-10-25 20:52   Nautical twilight ends\n"
     ]
    }
   ],
   "source": [
    "import datetime as dt\n",
    "from pytz import timezone\n",
    "from skyfield import almanac\n",
    "from skyfield.api import N, W, wgs84, load\n",
    "\n",
    "# Figure out local midnight.\n",
    "zone = timezone('Chile/Continental')\n",
    "now = zone.localize(dt.datetime.now())\n",
    "midnight = now.replace(hour=0, minute=0, second=0, microsecond=0)\n",
    "next_midnight = midnight + dt.timedelta(days=1)\n",
    "\n",
    "ts = load.timescale()\n",
    "t0 = ts.utc(2022, 10, 24)\n",
    "t1 = ts.utc(2022, 10, 26) #ts.from_datetime(end) \n",
    "eph = load('de421.bsp')\n",
    "\n",
    "mascara = wgs84.latlon(latitude_degrees=29.26111*S, longitude_degrees=70.73139*W, elevation_m=2400)\n",
    "f = almanac.dark_twilight_day(eph, mascara)\n",
    "times, events = almanac.find_discrete(t0, t1, f)\n",
    "\n",
    "previous_e = f(t0).item()\n",
    "for t, e in zip(times, events):\n",
    "    tstr = str(t.astimezone(zone))[:16]\n",
    "    if previous_e < e:\n",
    "        print(tstr, ' ', almanac.TWILIGHTS[e], 'starts')\n",
    "    else:\n",
    "        print(tstr, ' ', almanac.TWILIGHTS[previous_e], 'ends')\n",
    "    previous_e = e"
   ]
  },
  {
   "cell_type": "code",
   "execution_count": 11,
   "id": "3a4ddac2",
   "metadata": {},
   "outputs": [
    {
     "name": "stdout",
     "output_type": "stream",
     "text": [
      "2022-10-23 21:21 Night\n",
      "2022-10-24 05:32 Astronomical twilight\n",
      "2022-10-24 06:02 Nautical twilight\n",
      "2022-10-24 06:31 Civil twilight\n",
      "2022-10-24 06:56 Day\n",
      "2022-10-24 19:58 Civil twilight\n",
      "2022-10-24 20:22 Nautical twilight\n",
      "2022-10-24 20:52 Astronomical twilight\n",
      "2022-10-24 21:22 Night\n",
      "2022-10-25 05:31 Astronomical twilight\n",
      "2022-10-25 06:01 Nautical twilight\n",
      "2022-10-25 06:30 Civil twilight\n",
      "2022-10-25 06:55 Day\n",
      "2022-10-25 19:59 Civil twilight\n",
      "2022-10-25 20:23 Nautical twilight\n",
      "2022-10-25 20:52 Astronomical twilight\n"
     ]
    }
   ],
   "source": [
    "for t, e in zip(times, events):\n",
    "    tstr = str(t.astimezone(zone))[:16]\n",
    "    print(tstr, almanac.TWILIGHTS[e])"
   ]
  },
  {
   "cell_type": "markdown",
   "id": "ee134268",
   "metadata": {},
   "source": [
    "As you can see from the above code, if the new light level is brighter then we say that the new level “starts”, but if the new level is darker then we say the previous level “ends” — so instead of saying “astronomical twilight starts at 21:23” we say “nautical twilight ends at 21:23.” That’s why the code keeps up with previous_e and compares it to the new level of twilight.\n",
    "\n",
    "0 = Dark of night <br>\n",
    "1 = Astronomical twilight <br>\n",
    "2 = Nautical twilight <br>\n",
    "3 = Civil twilight <br>\n",
    "4 = Daytime <br>\n",
    "\n",
    "should focus on end of nautical twilight (start of astronomical twilight) $\\rightarrow$ start of astronomical twilight\n"
   ]
  },
  {
   "cell_type": "markdown",
   "id": "f992ba40",
   "metadata": {},
   "source": [
    "### Check if satellite elevation is above horizon"
   ]
  },
  {
   "cell_type": "code",
   "execution_count": 12,
   "id": "2571ea45",
   "metadata": {},
   "outputs": [
    {
     "name": "stdout",
     "output_type": "stream",
     "text": [
      "Altitude: -33deg 11' 34.6\"\n",
      "Azimuth: 221deg 59' 45.2\"\n",
      "Distance: 7935.6 km\n"
     ]
    }
   ],
   "source": [
    "testsat = sats[0]\n",
    "\n",
    "difference = testsat - mascara\n",
    "topocentric = difference.at(t)\n",
    "alt, az, distance = topocentric.altaz()\n",
    "\n",
    "if alt.degrees > 0:\n",
    "    print('The Starlink is above the horizon')\n",
    "\n",
    "print('Altitude:', alt)\n",
    "print('Azimuth:', az)\n",
    "print('Distance: {:.1f} km'.format(distance.km))"
   ]
  },
  {
   "cell_type": "code",
   "execution_count": 14,
   "id": "3af74538",
   "metadata": {},
   "outputs": [
    {
     "name": "stdout",
     "output_type": "stream",
     "text": [
      "2022-10-24 00:24:08 UTC: The Starlink is above the horizon (34deg 09' 11.8\")\n",
      "2022-10-24 00:27:08 UTC: The Starlink is above the horizon (40deg 28' 51.3\")\n",
      "2022-10-24 00:30:08 UTC: The Starlink is above the horizon (08deg 41' 44.5\")\n",
      "2022-10-24 02:03:08 UTC: The Starlink is above the horizon (03deg 18' 26.6\")\n",
      "2022-10-24 02:06:08 UTC: The Starlink is above the horizon (03deg 16' 14.3\")\n"
     ]
    }
   ],
   "source": [
    "for t in timerange:\n",
    "    topocentric = difference.at(t)\n",
    "    alt, az, distance = topocentric.altaz()\n",
    "\n",
    "    if alt.degrees > 0:\n",
    "        print(f'{t.utc_strftime()}: The Starlink is above the horizon ({alt})')\n",
    "        \n",
    "#     if alt.degrees < 0:\n",
    "#         print(f'{t.utc_strftime()}: The Starlink is below the horizon ({alt})')"
   ]
  },
  {
   "cell_type": "code",
   "execution_count": 15,
   "id": "3a782235",
   "metadata": {},
   "outputs": [
    {
     "data": {
      "text/plain": [
       "[('2022-10-24 00:24:08 UTC', '2022-10-24 00:33:08 UTC'),\n",
       " ('2022-10-24 00:27:08 UTC', '2022-10-24 00:36:08 UTC'),\n",
       " ('2022-10-24 00:30:08 UTC', '2022-10-24 00:39:08 UTC'),\n",
       " ('2022-10-24 02:03:08 UTC', '2022-10-24 00:42:08 UTC'),\n",
       " ('2022-10-24 02:06:08 UTC', '2022-10-24 00:45:08 UTC')]"
      ]
     },
     "execution_count": 15,
     "metadata": {},
     "output_type": "execute_result"
    }
   ],
   "source": [
    "# Get range between when above to below\n",
    "\n",
    "above = []\n",
    "below = []\n",
    "for t in timerange:\n",
    "    topocentric = difference.at(t)\n",
    "    alt, az, distance = topocentric.altaz()\n",
    "    \n",
    "    if alt.degrees > 0:\n",
    "        above.append(t.utc_strftime())\n",
    "        \n",
    "    if alt.degrees < 0:\n",
    "        below.append(t.utc_strftime())\n",
    "\n",
    "list(zip(above, below))"
   ]
  },
  {
   "cell_type": "code",
   "execution_count": 16,
   "id": "e929d6f3",
   "metadata": {},
   "outputs": [
    {
     "data": {
      "text/plain": [
       "180"
      ]
     },
     "execution_count": 16,
     "metadata": {},
     "output_type": "execute_result"
    }
   ],
   "source": [
    "import datetime as dt\n",
    "from skyfield.timelib import Time\n",
    "(Time.utc_datetime(timerange[1]) - Time.utc_datetime(timerange[0])).seconds\n"
   ]
  },
  {
   "cell_type": "code",
   "execution_count": 17,
   "id": "7c9cff5c",
   "metadata": {},
   "outputs": [
    {
     "data": {
      "text/plain": [
       "[(<Time tt=2459876.5535628465>, <Time tt=2459876.5521877958>),\n",
       " (<Time tt=2459877.169904248>, <Time tt=2459877.168467647>),\n",
       " (<Time tt=2459877.504829305>, <Time tt=2459877.5038143196>),\n",
       " (<Time tt=2459878.18684299>, <Time tt=2459878.186169061>)]"
      ]
     },
     "execution_count": 17,
     "metadata": {},
     "output_type": "execute_result"
    }
   ],
   "source": [
    "t, events = sat.find_events(mascara, t0, t1, altitude_degrees=18)\n",
    "below = t[2::3]\n",
    "above = t[1::3]\n",
    "periods = list(zip(below, above))\n",
    "periods"
   ]
  },
  {
   "cell_type": "code",
   "execution_count": 18,
   "id": "9a3e9e2a",
   "metadata": {},
   "outputs": [],
   "source": [
    "img = 'diff_48506263LSC.fits.gz'\n",
    "_, header = pf.getdata(f'../test_data/diff_images/{img}', header=True)\n",
    "jd0 = header[7]\n",
    "jd1 = header[8]\n",
    "midJD = header[12]"
   ]
  },
  {
   "cell_type": "code",
   "execution_count": 19,
   "id": "06a7f4f7",
   "metadata": {},
   "outputs": [],
   "source": [
    "srt = ts.tt_jd(2459876.517563686).utc_strftime()\n",
    "fin = ts.tt_jd(2459879.517563686).utc_strftime()\n",
    "\n",
    "beg = pd.to_datetime(srt)\n",
    "end = pd.to_datetime(fin)\n",
    "rng = pd.date_range(beg, end, freq='0.05H').to_pydatetime().tolist() #every 3 minutes\n",
    "\n",
    "times = ts.from_datetimes(rng)\n",
    "sunlit = sat.at(times).is_sunlit(eph)"
   ]
  },
  {
   "cell_type": "markdown",
   "id": "486ac048",
   "metadata": {},
   "source": [
    "Number of images expected to have Starlink trails visible: 32\n",
    "\n",
    "['48508923', '48507687', '48506263', '48508093', '48510552', '48506374', '48509667', '48508038', '48507013', '48507007', '48508075', '48507951', '48510677', '48509481', '48507697', '48509572', '48506795', '48509870', '48510791', '48510736', '48510870', '48506731', '48509980', '48506341', '48506377', '48507667', '48507022', '48508889', '48510747', '48508951', '48508711', '48510668']"
   ]
  },
  {
   "cell_type": "code",
   "execution_count": 19,
   "id": "ccf2d8f3",
   "metadata": {},
   "outputs": [],
   "source": [
    "def calcSatSunPhase(sat, loc, ephemeris, tEv):\n",
    "    earth = eph['earth']\n",
    "\n",
    "    vecObserverSat = (sat - loc).at(tEv)\n",
    "    vecSunSat = (earth + sat).at(tEv)\n",
    "    phase = vecObserverSat.separation_from(vecSunSat)\n",
    "\n",
    "    return phase"
   ]
  },
  {
   "cell_type": "markdown",
   "id": "7032ddfd",
   "metadata": {},
   "source": [
    "python full_code.py -n 3000 -f '20221023LSC' <br>\n",
    "Number of satellites recorded for this day: 72222 <br>\n",
    "Number of them that were Starlinks: 3179 <br>\n",
    "Number of Starlinks that passed MASCARA: 931 <br>\n",
    "Collecting images from 20221023LSC <br>\n",
    "Determining timerange <br>\n",
    "Oldest date: 2022-10-24 00:24:08 UTC <br>\n",
    "Newest date: 2022-10-24 08:59:06 UTC <br>\n",
    "Runtime: 3700.03729224205 <br>\n",
    "Creating EarthSatellites <br>\n",
    "Finding sunlit times <br>\n",
    "Checking when each sunlit Starlink is within image <br>\n",
    "Triple nested For Loop for 3000 images took 0.06397652626037598 <br>\n",
    "Number of images expected to have Starlink trails visible: 2971 <br>\n",
    "Elapsed:1:01:44.14,User=2928.225,System=601.843,CPU=95.3%."
   ]
  },
  {
   "cell_type": "markdown",
   "id": "718d440d",
   "metadata": {},
   "source": [
    "## Alt, Az of Sun and Satellite + height of Satellite"
   ]
  },
  {
   "cell_type": "code",
   "execution_count": 33,
   "id": "6d9d37c7",
   "metadata": {},
   "outputs": [
    {
     "name": "stdout",
     "output_type": "stream",
     "text": [
      "STARLINK-2599 is below the horizon\n",
      "Sun Alt: -13deg 55' 28.8\"\n",
      "Sun Az: 248deg 14' 51.8\"\n",
      "Sat Alt: -72deg 52' 36.2\"\n",
      "Sat Az: 157deg 46' 21.6\"\n",
      "Sat Dist: 12770.0 km\n",
      "Sat elev above MASCARA: 548.7416848407868 km\n",
      "Sat elev above Earth:   551.1110847431305 km\n"
     ]
    }
   ],
   "source": [
    "def altaz_skyfield(satellite):\n",
    "    \n",
    "    import os\n",
    "    from skyfield.api import load, wgs84, EarthSatellite\n",
    "    \n",
    "    # La Silla info\n",
    "    confdir = '../fotos-python3/bringfiles'\n",
    "    confdir = os.path.join(confdir, 'siteinfo.dat') \n",
    "    dtype = [('sitename', '|U20'), ('lat', 'float32'), ('lon', 'float32'), ('height', 'float32'), ('ID', '|U2')]\n",
    "    siteinfo = np.genfromtxt(confdir, dtype=dtype)  \n",
    "    camid = 'LSC'\n",
    "    mask = siteinfo['ID'] == camid[:2]\n",
    "    siteinfo = siteinfo[mask]\n",
    "    lat = siteinfo[0][1]\n",
    "    lon = siteinfo[0][2]\n",
    "    ele = siteinfo[0][3]\n",
    "    \n",
    "    # Set date of observation\n",
    "    ts = load.timescale()\n",
    "    t = ts.utc(2022, 10, 23)\n",
    "    \n",
    "    # Load ephemeris\n",
    "    eph = load('de421.bsp')\n",
    "    earth = eph['earth']\n",
    "    sun = eph['sun']\n",
    "    \n",
    "    # Find Sun alt and az\n",
    "    obs = earth + wgs84.latlon(latitude_degrees=lat, longitude_degrees=lon, elevation_m=ele)\n",
    "    astro = obs.at(t).observe(sun) #astrometric\n",
    "    app = astro.apparent()\n",
    "    sun_alt, sun_az, dist = app.altaz()\n",
    "    \n",
    "    # Now for Starlink\n",
    "    sat = EarthSatellite(satellite[1], satellite[2], satellite[0], ts)\n",
    "    \n",
    "    # Check whether the sat is above or below the horizon from MASCARA, and in which direction to look for it\n",
    "    mascara = wgs84.latlon(latitude_degrees=lat, longitude_degrees=lon, elevation_m=ele)\n",
    "    diff = sat - mascara\n",
    "    \n",
    "    # Position of sat relative to MASCARA\n",
    "    topocentric = diff.at(t)\n",
    "    alt, az, dist = topocentric.altaz()\n",
    "\n",
    "    if alt.degrees > 0:\n",
    "        print(f'{satellite[0]} is above the horizon')\n",
    "    else:\n",
    "        print(f'{satellite[0]} is below the horizon')\n",
    "        \n",
    "    print('Sun Alt:', sun_alt)\n",
    "    print('Sun Az:', sun_az)\n",
    "    print('Sat Alt:', alt)\n",
    "    print('Sat Az:', az)\n",
    "    print('Sat Dist: {:.1f} km'.format(dist.km))\n",
    "    \n",
    "    # wWhere among the stars the sat will be positioned\n",
    "    ra, dec, radec_dist = topocentric.radec()\n",
    "    \n",
    "    # Satellite elevation\n",
    "    geocentric = sat.at(t)\n",
    "    height = wgs84.height_of(geocentric)\n",
    "    # subpoint = wgs84.subpoint(geocentric) # subpoint.elevation.km # Just another way of doing it!\n",
    "\n",
    "    print(f'Sat elev above MASCARA: {height.km} km')\n",
    "    print(f'Sat elev above Earth:   {height.km + ele/1000.} km')\n",
    "    \n",
    "    return ra, dec\n",
    "\n",
    "ra, dec = altaz_skyfield(slk_mas_tles[44])"
   ]
  },
  {
   "cell_type": "code",
   "execution_count": null,
   "id": "d75ba0f1",
   "metadata": {},
   "outputs": [],
   "source": []
  }
 ],
 "metadata": {
  "kernelspec": {
   "display_name": "Python 3 (ipykernel)",
   "language": "python",
   "name": "python3"
  },
  "language_info": {
   "codemirror_mode": {
    "name": "ipython",
    "version": 3
   },
   "file_extension": ".py",
   "mimetype": "text/x-python",
   "name": "python",
   "nbconvert_exporter": "python",
   "pygments_lexer": "ipython3",
   "version": "3.10.9"
  }
 },
 "nbformat": 4,
 "nbformat_minor": 5
}
